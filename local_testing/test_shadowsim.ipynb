{
 "cells": [
  {
   "cell_type": "code",
   "execution_count": 1,
   "metadata": {},
   "outputs": [],
   "source": [
    "%load_ext autoreload\n",
    "%autoreload 2\n",
    "from pathlib import Path\n",
    "import sys\n",
    "sys.path.append(Path.cwd().parent.__str__())\n",
    "import numpy as np\n",
    "import matplotlib.pyplot as plt\n",
    "%matplotlib qt"
   ]
  },
  {
   "cell_type": "code",
   "execution_count": 2,
   "metadata": {},
   "outputs": [],
   "source": [
    "from shadowing_sim import ShadowScene"
   ]
  },
  {
   "cell_type": "code",
   "execution_count": 112,
   "metadata": {},
   "outputs": [
    {
     "data": {
      "text/plain": [
       "[<matplotlib.lines.Line2D at 0x1d2a4b16490>]"
      ]
     },
     "execution_count": 112,
     "metadata": {},
     "output_type": "execute_result"
    }
   ],
   "source": [
    "f, [ax1, ax2, ax3] = plt.subplots(1, 3, figsize=(10,3))\n",
    "\n",
    "ss = ShadowScene(200)\n",
    "ax1.imshow(ss.surface)\n",
    "# print(ss.boulder_area_pct * 100)\n",
    "\n",
    "pct = []\n",
    "for i in range(15, 89, 3):\n",
    "    shadowed = ss.illuminate(i)\n",
    "    pct.append(ss.boulder_area_pct * 100)\n",
    "\n",
    "ax2.imshow(shadowed)\n",
    "ax3.plot(np.arange(15, 89, 3), pct)"
   ]
  },
  {
   "cell_type": "code",
   "execution_count": 56,
   "metadata": {},
   "outputs": [
    {
     "data": {
      "text/plain": [
       "<matplotlib.image.AxesImage at 0x1cc641947d0>"
      ]
     },
     "execution_count": 56,
     "metadata": {},
     "output_type": "execute_result"
    }
   ],
   "source": [
    "ss.surface[ss.boulder_list[0].set_shadow(0)] = 10\n",
    "plt.imshow(ss.surface)"
   ]
  }
 ],
 "metadata": {
  "kernelspec": {
   "display_name": "shadowsim",
   "language": "python",
   "name": "python3"
  },
  "language_info": {
   "codemirror_mode": {
    "name": "ipython",
    "version": 3
   },
   "file_extension": ".py",
   "mimetype": "text/x-python",
   "name": "python",
   "nbconvert_exporter": "python",
   "pygments_lexer": "ipython3",
   "version": "3.13.2"
  }
 },
 "nbformat": 4,
 "nbformat_minor": 2
}
